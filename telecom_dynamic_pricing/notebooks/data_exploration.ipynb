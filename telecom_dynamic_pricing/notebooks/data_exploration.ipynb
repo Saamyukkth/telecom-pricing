{
 "cells": [
  {
   "cell_type": "markdown",
   "metadata": {},
   "source": []
  },
  {
   "cell_type": "code",
   "execution_count": null,
   "metadata": {},
   "outputs": [
    {
     "name": "stdout",
     "output_type": "stream",
     "text": [
      "Requirement already satisfied: pandas in c:\\users\\saamyukkth.s\\appdata\\local\\programs\\python\\python313\\lib\\site-packages (2.2.3)\n",
      "Requirement already satisfied: numpy>=1.26.0 in c:\\users\\saamyukkth.s\\appdata\\local\\programs\\python\\python313\\lib\\site-packages (from pandas) (2.2.3)\n",
      "Requirement already satisfied: python-dateutil>=2.8.2 in c:\\users\\saamyukkth.s\\appdata\\local\\programs\\python\\python313\\lib\\site-packages (from pandas) (2.9.0.post0)\n",
      "Requirement already satisfied: pytz>=2020.1 in c:\\users\\saamyukkth.s\\appdata\\local\\programs\\python\\python313\\lib\\site-packages (from pandas) (2025.1)\n",
      "Requirement already satisfied: tzdata>=2022.7 in c:\\users\\saamyukkth.s\\appdata\\local\\programs\\python\\python313\\lib\\site-packages (from pandas) (2025.1)\n",
      "Requirement already satisfied: six>=1.5 in c:\\users\\saamyukkth.s\\appdata\\local\\programs\\python\\python313\\lib\\site-packages (from python-dateutil>=2.8.2->pandas) (1.17.0)\n",
      "Note: you may need to restart the kernel to use updated packages.\n"
     ]
    }
   ],
   "source": [
    "pip install pandas"
   ]
  },
  {
   "cell_type": "code",
   "execution_count": null,
   "metadata": {},
   "outputs": [],
   "source": [
    "import pandas as pd\n"
   ]
  },
  {
   "cell_type": "code",
   "execution_count": 9,
   "metadata": {},
   "outputs": [],
   "source": [
    "import csv"
   ]
  },
  {
   "cell_type": "code",
   "execution_count": null,
   "metadata": {},
   "outputs": [
    {
     "name": "stdout",
     "output_type": "stream",
     "text": [
      "Processed files saved successfully!\n"
     ]
    }
   ],
   "source": [
    "# # Load raw data\n",
    "# customer_usage = pd.read_csv('C:\\\\Users\\\\saamyukkth.s\\\\Documents\\\\telecom_dynamic_pricing\\\\data\\\\raw\\\\customer_usage.csv')\n",
    "# pricing_history = pd.read_csv('C:\\\\Users\\\\saamyukkth.s\\\\Documents\\\\telecom_dynamic_pricing\\\\data\\\\raw\\\\pricing_history.csv')\n",
    "# competitor_pricing = pd.read_csv('C:\\\\Users\\\\saamyukkth.s\\\\Documents\\\\telecom_dynamic_pricing\\\\data\\\\raw\\\\competitor_pricing.csv')\n",
    "\n",
    "# # Process customer usage data\n",
    "# def process_customer_usage(df):\n",
    "#     # Example: Convert month to datetime\n",
    "#     df['month'] = pd.to_datetime(df['month'])\n",
    "    \n",
    "#     # Example: Handle missing values (if any)\n",
    "#     df.fillna(0, inplace=True)  # Replace NaNs with 0\n",
    "\n",
    "#     # Example: Calculate any additional metrics or transformations here\n",
    "#     df['total_usage'] = df['data_usage'] + df['call_usage']  # Example metric\n",
    "#     return df\n",
    "\n",
    "# # Process pricing history data\n",
    "# def process_pricing_history(df):\n",
    "#     # Example: Convert effective_date to datetime\n",
    "#     df['effective_date'] = pd.to_datetime(df['effective_date'])\n",
    "    \n",
    "#     # Example: Handle missing values (if any)\n",
    "#     df.fillna(df['price'].mean(), inplace=True)  # Replace NaNs with the average price\n",
    "    \n",
    "#     return df\n",
    "\n",
    "# # Process competitor pricing data\n",
    "# def process_competitor_pricing(df):\n",
    "#     # Example: Convert effective_date to datetime\n",
    "#     df['effective_date'] = pd.to_datetime(df['effective_date'])\n",
    "    \n",
    "#     # Example: Handle missing values (if any)\n",
    "#     df.fillna(df['price'].mean(), inplace=True)  # Replace NaNs with the average price\n",
    "    \n",
    "#     return df\n",
    "\n",
    "# # Process the data\n",
    "# processed_customer_usage = process_customer_usage(customer_usage)\n",
    "# processed_pricing_history = process_pricing_history(pricing_history)\n",
    "# processed_competitor_pricing = process_competitor_pricing(competitor_pricing)\n",
    "\n",
    "# # Save processed data to CSV\n",
    "# processed_customer_usage.to_csv('C:\\\\Users\\\\saamyukkth.s\\\\Documents\\\\telecom_dynamic_pricing\\\\data\\\\processed\\\\processed_customer_usage.csv', index=False)\n",
    "# processed_pricing_history.to_csv('C:\\\\Users\\\\saamyukkth.s\\\\Documents\\\\telecom_dynamic_pricing\\\\data\\\\processed\\\\processed_pricing_history.csv', index=False)\n",
    "# processed_competitor_pricing.to_csv('C:\\\\Users\\\\saamyukkth.s\\\\Documents\\\\telecom_dynamic_pricing\\\\data\\\\processed\\\\processed_competitor_pricing.csv', index=False)\n",
    "\n",
    "# print(\"Processed files saved successfully!\")\n",
    "\n",
    "# Load necessary libraries\n",
    "import pandas as pd\n",
    "import matplotlib.pyplot as plt\n",
    "import seaborn as sns\n",
    "\n",
    "# Load processed data\n",
    "processed_customer_usage = pd.read_csv('C:\\\\Users\\\\saamyukkth.s\\\\Documents\\\\telecom_dynamic_pricing\\\\data\\\\processed\\\\processed_customer_usage.csv')\n",
    "\n",
    "# Example visualization\n",
    "plt.figure(figsize=(10, 6))\n",
    "sns.barplot(data=processed_customer_usage, x='plan_id', y='data_usage', estimator='mean')\n",
    "plt.title('Average Data Usage per Plan')\n",
    "plt.xlabel('Plan ID')\n",
    "plt.ylabel('Average Data Usage (GB)')\n",
    "plt.show()\n",
    "\n"
   ]
  },
  {
   "cell_type": "code",
   "execution_count": null,
   "metadata": {},
   "outputs": [],
   "source": []
  }
 ],
 "metadata": {
  "kernelspec": {
   "display_name": "Python 3",
   "language": "python",
   "name": "python3"
  },
  "language_info": {
   "codemirror_mode": {
    "name": "ipython",
    "version": 3
   },
   "file_extension": ".py",
   "mimetype": "text/x-python",
   "name": "python",
   "nbconvert_exporter": "python",
   "pygments_lexer": "ipython3",
   "version": "3.13.2"
  }
 },
 "nbformat": 4,
 "nbformat_minor": 2
}
